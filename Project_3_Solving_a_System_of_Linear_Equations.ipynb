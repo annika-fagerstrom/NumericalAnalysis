{
  "nbformat": 4,
  "nbformat_minor": 0,
  "metadata": {
    "colab": {
      "name": "Project 3 - Solving a System of Linear Equations.ipynb",
      "provenance": [],
      "collapsed_sections": [],
      "include_colab_link": true
    },
    "kernelspec": {
      "display_name": "Python 3",
      "language": "python",
      "name": "python3"
    },
    "language_info": {
      "codemirror_mode": {
        "name": "ipython",
        "version": 3
      },
      "file_extension": ".py",
      "mimetype": "text/x-python",
      "name": "python",
      "nbconvert_exporter": "python",
      "pygments_lexer": "ipython3",
      "version": "3.7.6"
    }
  },
  "cells": [
    {
      "cell_type": "markdown",
      "metadata": {
        "id": "view-in-github",
        "colab_type": "text"
      },
      "source": [
        "<a href=\"https://colab.research.google.com/github/annika-fagerstrom/NumericalAnalysis/blob/main/Project_3_Solving_a_System_of_Linear_Equations.ipynb\" target=\"_parent\"><img src=\"https://colab.research.google.com/assets/colab-badge.svg\" alt=\"Open In Colab\"/></a>"
      ]
    },
    {
      "cell_type": "markdown",
      "metadata": {
        "id": "Sl-Yub3ql5kB"
      },
      "source": [
        "# Team Project 3 - Solving a System of Linear Equations\n",
        "\n",
        "### Authors: Erin O'Rourk, Annika Fagerstrom, Andrew Souther, Rhea Sampat, and Jaime Lopez\n",
        "\n",
        "In this project, we compare the performance of three different methods of solving a system of linear equations. The lesson that I hope you may get is that finding an efficient method is not an unneccessary complication.\n",
        "\n",
        "For this project, <b>DO NOT</b> use the 'solve' method in the linear algebra package! You have to make your own code for it. "
      ]
    },
    {
      "cell_type": "markdown",
      "metadata": {
        "id": "-oofWsMAl5kI"
      },
      "source": [
        "#### 1. (10 pts) Create a function randmat(n) which returns a random square matrix constructed as the following recipe. \n",
        "<ul>\n",
        "    <li>The size of the matrix is $n \\times n$.</li>\n",
        "    <li>Each off-diagonal entry ($a_{ij}$ where $i \\ne j$) is a random number in $[0, 1)$. A random number can be constructed by the random method (see <a href=\"https://docs.scipy.org/doc/numpy/reference/routines.random.html\">here</a>).</li>\n",
        "    <li>A diagonal entry $a_{ii}$ is a random number in $[n, n+1)$. (This condition guarantees that the matrix $(a_{ij})$ is strictly diagonally dominant, hence invertible.)</li>\n",
        "</ul>\n",
        "\n",
        "#### And create a function randvec(n) which returns an $n$-dimensional random vector whose entries are random numbers in $[0, 100)$. "
      ]
    },
    {
      "cell_type": "code",
      "metadata": {
        "id": "EfUcGMAJl5kJ"
      },
      "source": [
        "import random\n",
        "import numpy as np \n",
        "\n",
        "def randmat(n):\n",
        "  # initialize a nxn matrix \n",
        "  matrix = np.zeros((n,n))\n",
        "  # iterate throught the nxn matrix\n",
        "  for i in range (n):\n",
        "      for j in range (n):\n",
        "          # set all off-diagonal entries to a random number in [0,1)\n",
        "          if i != j:\n",
        "              matrix[i][j] = random.uniform(0,1)\n",
        "          # set all diagonal entries to a random number in [n, n+1)\n",
        "          else:\n",
        "              matrix[i][j] = random.uniform(n, n+1)\n",
        "  return matrix \n",
        "\n",
        "def randvec(n):\n",
        "  # initialize a nx1 vector  \n",
        "  vector = np.zeros((n,1))\n",
        "  # set all entries to a random number in [0, 100)\n",
        "  for i in range(n):\n",
        "      vector[i] = random.uniform(0, 100)\n",
        "  return vector \n"
      ],
      "execution_count": null,
      "outputs": []
    },
    {
      "cell_type": "markdown",
      "metadata": {
        "id": "77uhUEJNl5kK"
      },
      "source": [
        "#### 2. (10 pts) Create a function GaussElim(A, b) which solves a system of linear equations $Ax = b$ by using Gaussian Elimination with the partial pivoting."
      ]
    },
    {
      "cell_type": "code",
      "metadata": {
        "colab": {
          "base_uri": "https://localhost:8080/"
        },
        "id": "aHQED_hLl5kL",
        "outputId": "bf1d8b18-9cb7-4075-c250-80420547e265"
      },
      "source": [
        "import numpy as np\n",
        "#assume the arrays being passed are np arrays\n",
        "def GaussElim(A,b):\n",
        "  n = len(A)\n",
        "  i = 0\n",
        " #combine A|b to make one matrix\n",
        "  M = np.concatenate((A, b.T), axis = 1)\n",
        "  #print(M)\n",
        "  #algorithm to solve via gaussian elimination\n",
        "  for k in range(n):\n",
        "    for i in range(k,n): #so i will count [k,n), ie. from k up to but not including n\n",
        "    #next we compare the leading values of the rows, swapping rows to put the largest leading value in the top\n",
        "      if abs(M[i,k]) > abs(M[k,k]):\n",
        "        #swap row code\n",
        "        M[[k,i]] = M[[i,k]]\n",
        "      else:\n",
        "        pass\n",
        "    #print(M, \"this is m\")\n",
        "    #creates a q value per line that can be used to row reduce a leading value to 1 (and as the algorithm progresses, the next values)\n",
        "    \n",
        "    for j in range(k+1,n):\n",
        "      q = float(M[j,k]) / M[k,k]\n",
        "      #print(q)\n",
        "      #print(M, \"this is m #2\")\n",
        "      for m in range(k, n+1):\n",
        "        #print(M,\"cordinate\",M[j,m],\" -=\", q, \"*\", M[k,m])\n",
        "        M[j,m] = M[j,m] - (q * M[k,m])\n",
        "        #print(M,\"cordinate\",M[j,m],\" -=\", q, \"*\", M[k,m])\n",
        "  \n",
        "  x = np.zeros(n) #modify line\n",
        "  x[n-1] = float(M[n-1,n])/M[n-1,n-1]\n",
        "\n",
        "  for i in range (n-1, -1, -1): #starts at n counting backwards until 0 (b/c range is from [a,b))\n",
        "    z = 0 #resets z for the next iteration of the following for loop\n",
        "    for j in range(i+1, n):\n",
        "      z = z + (M[i,n] - z)/M[i,i]\n",
        "  return(x)\n",
        "\n",
        "A = np.array([[2,3,5],[3,4,1],[6,7,2]],dtype = 'f')\n",
        "f = np.array([23,14,26], dtype = 'f').reshape(1,3)\n",
        "\n",
        "print(GaussElim(A,f))\n",
        "    \n"
      ],
      "execution_count": null,
      "outputs": [
        {
          "output_type": "stream",
          "text": [
            "[0.         0.         2.99999971]\n"
          ],
          "name": "stdout"
        }
      ]
    },
    {
      "cell_type": "markdown",
      "metadata": {
        "id": "4c7GIoJTl5kL"
      },
      "source": [
        "#### 3. (10 pts) Create a function Jacobi(A, b, err) which solves a system of linear equations $Ax = b$ by using Jacobi interation method. Set $x^{(0)} = \\vec{0}$. We stop the iteration when the estimation of the error $||x^{(k)} - x^{(k-1)}||_\\infty$ is less than err or $k = 1000$. (Here $x^{(k)}$ is the $k$-th output of the iteration)."
      ]
    },
    {
      "cell_type": "code",
      "metadata": {
        "colab": {
          "base_uri": "https://localhost:8080/"
        },
        "id": "HghzYG8gl5kM",
        "outputId": "7d691285-8a26-4378-8669-188bd9adfac9"
      },
      "source": [
        "def Jacobi(A, b, err):\n",
        "  \"\"\"\n",
        "  This function attempts to perform the Jacobi method for solving systems of\n",
        "  linear equations. \n",
        "  \n",
        "  Inputs: \n",
        "  - A (Numpy matrix)\n",
        "  - b (Numpy array)\n",
        "  - err (float)\n",
        "\n",
        "  Output: \n",
        "  - x (Numpy array)\n",
        "\n",
        "  \"\"\"\n",
        "\n",
        "  num_rows = (A.shape)[0]\n",
        "  num_cols = (A.shape)[1]\n",
        "\n",
        "  error = 1e10\n",
        "\n",
        "  #initialize the list\n",
        "  x_list = [[0 for i in range(num_rows)]]\n",
        "\n",
        "  #at most, the process will last 1000 iterations\n",
        "  for k in range(1000):\n",
        "    x_vec = []\n",
        "\n",
        "    #implement the Jacobi formula once for each row of the matrix\n",
        "    for i in range(num_rows):  \n",
        "      x_i = float(b[i]) \n",
        "      for j in range(num_cols):\n",
        "        if i != j:\n",
        "          #rhs_terms = (-1)*(A[i][j])*()\n",
        "          x_i += float((-1)*(A[i][j])*(x_list[k][j]))\n",
        "      x_i = x_i / (A[i][i])\n",
        "\n",
        "      #append the vec. component approx. to the list\n",
        "      x_vec.append(x_i)\n",
        "\n",
        "    x_list.append(x_vec)\n",
        "\n",
        "\n",
        "    #compute the distance between two most recent approximations\n",
        "    error_vec = [ abs(x_list[-1][i] - x_list[-2][i]) for i in range(num_rows)]\n",
        "    error = max(error_vec)\n",
        "    if error <= err:\n",
        "      break\n",
        "  \n",
        "  #when the iteration finishes, report the solution vector as a list\n",
        "  x_tilde = x_list[-1]\n",
        "\n",
        "  return np.array(x_tilde)\n",
        "\n",
        "\n",
        "#test the function\n",
        "A =  np.array(\n",
        "    [[20,3,4],\n",
        "     [4,20,7],\n",
        "     [8,9,20]])\n",
        "b = np.array([65,96,123])\n",
        "\n",
        "x = Jacobi(A, b, 1e-6)\n",
        "print(x)"
      ],
      "execution_count": null,
      "outputs": [
        {
          "output_type": "stream",
          "text": [
            "[1.99999984 2.99999977 3.99999971]\n"
          ],
          "name": "stdout"
        }
      ]
    },
    {
      "cell_type": "markdown",
      "metadata": {
        "id": "4GRDZdw6l5kM"
      },
      "source": [
        "#### 4. (10 pts) Create a function GaussSeidel(A, b, err) which solves a system of linear equations $Ax = b$ by using Gauss-Seidel interation method. Set $x^{(0)} = \\vec{0}$. We stop the iteration when the estimation of the error $||x^{(k)} - x^{(k-1)}||_\\infty$ is less than err or $k = 1000$. (Here $x^{(k)}$ is the $k$-th output of the iteration)."
      ]
    },
    {
      "cell_type": "code",
      "metadata": {
        "colab": {
          "base_uri": "https://localhost:8080/"
        },
        "id": "_g5p24zXl5kM",
        "outputId": "ecabdbb8-2085-48d6-8648-b5f7c7e2ff1b"
      },
      "source": [
        "def GaussSeidel(A, b, err):\n",
        "  \"\"\"\n",
        "  This function attempts to perform the Gauss-Seidel method for solving systems \n",
        "  of linear equations. \n",
        "  \n",
        "  Inputs: \n",
        "  - A (Numpy matrix)\n",
        "  - b (Numpy array)\n",
        "  - err (float)\n",
        "\n",
        "  Output: \n",
        "  - x (Numpy array)\n",
        "\n",
        "  \"\"\"\n",
        "\n",
        "  num_rows = (A.shape)[0]\n",
        "  num_cols = (A.shape)[1]\n",
        "\n",
        "  error = 1e10\n",
        "\n",
        "  #initialize the list\n",
        "  x_list = [[0 for i in range(num_rows)]]\n",
        "\n",
        "  #at most, the process will last 1000 iterations\n",
        "  for k in range(1000):\n",
        "    x_vec = []\n",
        "\n",
        "    #implement the Gauss-Seidel formula once for each row of the matrix\n",
        "    for i in range(num_rows):  \n",
        "      x_i = float(b[i]) \n",
        "      for j in range(num_cols):\n",
        "        if i < j:\n",
        "          #rhs_terms = (-1)*(A[i][j])*()\n",
        "          x_i += float((-1)*(A[i][j])*(x_list[k][j]))\n",
        "        elif j < i:\n",
        "          x_i += float((-1)*(A[i][j])*x_vec[j])\n",
        "      x_i = x_i / (A[i][i])\n",
        "\n",
        "      #append the vec. component approx. to the list\n",
        "      x_vec.append(x_i)\n",
        "\n",
        "    x_list.append(x_vec)\n",
        "\n",
        "\n",
        "    #compute the distance between two most recent approximations\n",
        "    error_vec = [ abs(x_list[-1][i] - x_list[-2][i]) for i in range(num_rows)]\n",
        "    error = max(error_vec)\n",
        "    if error <= err:\n",
        "      break\n",
        "  \n",
        "  #when the iteration finishes, report the solution vector as a list\n",
        "  x_tilde = x_list[-1]\n",
        "  #x_tilde = [x_list[i][-1] for i in range(num_rows)]\n",
        "  return np.array(x_tilde)\n",
        "\n",
        "\n",
        "#test the function\n",
        "A =  np.array(\n",
        "    [[20,3,4],\n",
        "     [4,20,7],\n",
        "     [8,9,20]])\n",
        "b = np.array([65,96,123])\n",
        "\n",
        "x = GaussSeidel(A, b, 1e-6)\n",
        "print(x)"
      ],
      "execution_count": null,
      "outputs": [
        {
          "output_type": "stream",
          "text": [
            "[2.00000005 2.99999992 4.00000001]\n"
          ],
          "name": "stdout"
        }
      ]
    },
    {
      "cell_type": "markdown",
      "metadata": {
        "id": "pVl-wsDWl5kN"
      },
      "source": [
        "#### 5. (10 pts) For $n = 100, 200, 300, \\cdots , 1000$, create a random $n \\times n$ matrix $A$ and a random $n$-dimensional vector $b$. Solve the system of linear equations $Ax = b$ by using GaussElim(A, b), Jacobi(A, b, err), and GaussSeidel(A, b, err). Use $10^{-6}$ for the error tolerance. Record the excution time for each method. Plot the graph of the excution time for those three methods on the same plane.\n",
        "\n",
        "For the computation of the excution time, you may use the following method:"
      ]
    },
    {
      "cell_type": "code",
      "metadata": {
        "colab": {
          "base_uri": "https://localhost:8080/",
          "height": 279
        },
        "id": "95tg4y6Ql5kN",
        "outputId": "65c5b614-f575-4578-abd1-f2111dd1c453"
      },
      "source": [
        "import time\n",
        "import matplotlib.pyplot as plt\n",
        "\n",
        "#initialize a list of possible matrix dimensions (100, 200, 300, ... , 1000)\n",
        "matrix_dims = [100 + i*100 for i in range(10)]\n",
        "\n",
        "#initialize lists of matrices and vectors using each of those dims.\n",
        "matrices = [randmat(n) for n in matrix_dims]\n",
        "vectors = [randvec(n) for n in matrix_dims]\n",
        "\n",
        "err = 1e-6 #set the error tolerance\n",
        "\n",
        "#set up a dictionary for recording the execution times of each algorithm\n",
        "time_dict = {\n",
        "    \"GaussElim\": [],\n",
        "    \"Jacobi\": [],\n",
        "    \"GaussSeidel\": []\n",
        "}\n",
        "\n",
        "\n",
        "for i in range(10):  \n",
        "  matrix = matrices[i]\n",
        "  vector = vectors[i]\n",
        "\n",
        "  #first, time Gaussian Elimination\n",
        "  start = time.time()\n",
        "  solution = GaussElim(matrix, vector.T)\n",
        "  end = time.time()\n",
        "  time_dict[\"GaussElim\"].append(end - start)\n",
        "\n",
        "  #next, time Jacobi\n",
        "  start = time.time()\n",
        "  solution = Jacobi(matrix, vector, err)\n",
        "  end = time.time()\n",
        "  time_dict[\"Jacobi\"].append(end - start)\n",
        "\n",
        "  #last, time Gauss-Seidel\n",
        "  start = time.time()\n",
        "  solution = GaussSeidel(matrix, vector, err)\n",
        "  end = time.time()\n",
        "  time_dict[\"GaussSeidel\"].append(end - start)\n",
        "\n",
        "#after recording all the computation times, plot them\n",
        "plt.plot(matrix_dims, time_dict[\"GaussElim\"], label = \"GaussElim\")\n",
        "plt.plot(matrix_dims, time_dict[\"Jacobi\"], label = \"Jacobi\")\n",
        "plt.plot(matrix_dims, time_dict[\"GaussSeidel\"], label = \"GaussSeidel\")\n",
        "plt.xlabel(\"Dimensions of the Matrix Algebra Problem\")\n",
        "plt.ylabel(\"Execution Time\")\n",
        "plt.legend()\n",
        "plt.show()"
      ],
      "execution_count": null,
      "outputs": [
        {
          "output_type": "display_data",
          "data": {
            "image/png": "[encoded data removed]",
            "text/plain": [
              "<Figure size 432x288 with 1 Axes>"
            ]
          },
          "metadata": {
            "tags": [],
            "needs_background": "light"
          }
        }
      ]
    },
    {
      "cell_type": "code",
      "metadata": {
        "colab": {
          "background_save": true
        },
        "id": "FLCGTNRRl5kN"
      },
      "source": [
        ""
      ],
      "execution_count": null,
      "outputs": []
    },
    {
      "cell_type": "markdown",
      "metadata": {
        "id": "DrxyuEVIl5kN"
      },
      "source": [
        "If you are interested in, then you can make a code using the \"theoretically simplest method\". For $Ax = b$, $x = A^{-1}b$. By using Gauss Elimination, you may compute $A^{-1}$ and then compute $A^{-1}b$. Recall that one can compute $A^{-1}$ as the following:\n",
        "<ul>\n",
        "    <li>Make an augmented matrix $[A | I]$ where $I$ is the $n \\times n$ identity matrix.</li>\n",
        "    <li>Apply elementary row operations until the left half $A$ on $[A| I]$ becomes $I$.</li>\n",
        "    <li>Then the right half of the augmented matrix is $A^{-1}$.</li>\n",
        "</ul>\n",
        "Compare the performance of this method with above three methods."
      ]
    },
    {
      "cell_type": "code",
      "metadata": {
        "colab": {
          "background_save": true
        },
        "id": "YFwCawcZl5kO"
      },
      "source": [
        ""
      ],
      "execution_count": null,
      "outputs": []
    }
  ]
}